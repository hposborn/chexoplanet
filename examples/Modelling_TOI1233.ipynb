{
 "cells": [
  {
   "attachments": {},
   "cell_type": "markdown",
   "metadata": {},
   "source": [
    "# Modelling TOI-1233 with `chexoplanet`\n",
    "\n",
    "This tutorial is a good starting point to understand the `chexoplanet` code."
   ]
  },
  {
   "attachments": {},
   "cell_type": "markdown",
   "metadata": {},
   "source": [
    "Let's import some modules:"
   ]
  },
  {
   "cell_type": "code",
   "execution_count": 1,
   "metadata": {},
   "outputs": [
    {
     "name": "stderr",
     "output_type": "stream",
     "text": [
      "WARNING (theano.tensor.blas): Using NumPy C-API based implementation for BLAS functions.\n"
     ]
    }
   ],
   "source": [
    "from chexoplanet import newfit\n",
    "import numpy as np\n",
    "import pandas as pd"
   ]
  },
  {
   "attachments": {},
   "cell_type": "markdown",
   "metadata": {},
   "source": [
    "#### Initialising the model\n",
    "To set up a chexoplanet model, you need to give it a name. If possible, use the same name which is found in the CHEOPS database (in this case, TOI1233 without a hyphen).\n",
    "\n",
    "It is worth including a comment specific to this model run, which will enable you to check between different model runs later on.\n",
    "\n",
    "You may also decide to specify the RA/Dec of the target here (using `astropy.coordinates.SkyCoord` object), which might help to search later."
   ]
  },
  {
   "cell_type": "code",
   "execution_count": null,
   "metadata": {},
   "outputs": [],
   "source": [
    "mod = newfit.chexo_model(\"TOI1233\", comment=\"example_fit\")"
   ]
  },
  {
   "attachments": {},
   "cell_type": "markdown",
   "metadata": {},
   "source": [
    "#### Adding a TESS lightcurve\n",
    "\n",
    "`chexoplanet` was specifically build to interact with data from other exoplanet missions natively, as almost all targets will have for example archival TESS photometry.\n",
    "\n",
    "The easiest way to access archival data is to use `get_tess` which piggy-backs on the functionality of `MonoTools.lightcurve`. This automatically searches Kepler, K2 and TESS data, downloading all available lightcurves:"
   ]
  },
  {
   "cell_type": "code",
   "execution_count": null,
   "metadata": {},
   "outputs": [],
   "source": [
    "mod.get_tess(tic=260647166)"
   ]
  },
  {
   "attachments": {},
   "cell_type": "markdown",
   "metadata": {},
   "source": [
    "However, `MonoTools` is not the easiest to install, and `chexoplanet` also allows you to add lightcurves directly by specifying a time, flux and flux_err arrays to `add_lc`. Flux and errors should be in ppt. It's necessary, especially when there are multiple data sources (e.g. K2 & TESS), to also include the name of the lightcurve - in this case 'tess'.\n",
    "\n",
    "In either case, `chexoplanet` will initialise lightcurves at the location of `mod.lcs[src]` where src is e.g. 'tess'."
   ]
  },
  {
   "cell_type": "code",
   "execution_count": null,
   "metadata": {},
   "outputs": [],
   "source": [
    "##Commented out as this would duplicate the line above\n",
    "#tess_lc=pd.read_csv(\"dummy_lightcurve.csv\")\n",
    "#mod.add_lc(time=tess_lc['time'], flux=(tess_lc['flux']-1.0)*1000, flux_err=tess_lc['flux_err']*1000, src='tess')"
   ]
  },
  {
   "attachments": {},
   "cell_type": "markdown",
   "metadata": {},
   "source": [
    "#### Initialising Stellar Parameters\n",
    "\n",
    "Once again, this can be automatically read from the TIC using the data scraped by `MonoTools.lightcurve`. This is automatically done in `get_tess`.\n",
    "\n",
    "Alternatively stellar parameters can be added manually by giving `[value, neg_err, pos_err]` lists to `init_starpars`."
   ]
  },
  {
   "cell_type": "code",
   "execution_count": null,
   "metadata": {},
   "outputs": [],
   "source": [
    "mod.init_starpars(Rstar=[0.876, 0.007, 0.007],\n",
    "                  Mstar=[0.897, 0.042, 0.042],\n",
    "                  Teff=[5660, 61, 61],\n",
    "                  logg=[4.49, 0.11, 0.11])"
   ]
  },
  {
   "attachments": {},
   "cell_type": "markdown",
   "metadata": {},
   "source": [
    "#### Adding CHEOPS observations\n",
    "\n",
    "The simplest way to add a cheops observation is to use `mod.add_cheops_lc()`, specifying the precise filekey wanted.\n",
    "\n",
    "If `download=True` then the data will be downloaded from Dace. In order to get private data, make sure you have a DACE log-in, have generated a DACE access token which is in your `.dacerc` file and, bizarrely, make sure you are actively logged into Dace on your browser (even then, this API access step may require a couple of attempts).\n",
    "\n",
    "You can also specify whether to use the standard \"Data Reduction Pipeline\" output (`DRP=True`) or whether to perform PSF modelling (using `PIPE=True`).\n",
    "\n",
    "In the case of PIPE data, which I recommend using, make sure that PIPE is downloaded from github at the most up-to-date version (you may require the `BG-star-fits` branch), that it has been installed via `pip install .` in the PIPE directory, and and that all the necessary config files have been downloaded (these do not come with the github package and you may need to contact PIPE creator Alexis Brandeker). Running PIPE may be time-consuming and take 10-20mins per filekey."
   ]
  },
  {
   "cell_type": "code",
   "execution_count": null,
   "metadata": {},
   "outputs": [],
   "source": [
    "# # Commented out - you will see why in a second\n",
    "# mod.add_cheops_lc('CH_PR110045_TG002701_V0200',DRP=False,PIPE=True)"
   ]
  },
  {
   "attachments": {},
   "cell_type": "markdown",
   "metadata": {},
   "source": [
    "However, the easiest way to do all of this is to use `mod.get_cheops()`. This will perform the above step for all CHEOPS data found on DACE."
   ]
  },
  {
   "cell_type": "code",
   "execution_count": null,
   "metadata": {},
   "outputs": [],
   "source": [
    "mod.get_cheops()"
   ]
  },
  {
   "attachments": {},
   "cell_type": "markdown",
   "metadata": {},
   "source": [
    "#### Adding planets to a model\n",
    "\n",
    "There are, as before, two ways to add planets to a model:\n",
    "\n",
    "1) The precise way (using `mod.add_planet()`) - Here you should specify the planet name and then initial values for the modelling, namely: `tcen` (transit epoch; same units as the data in `mod.lcs`), `tcen_err`, `tdur` (duration in days), `depth` (as a ratio), `period` and `period_err` (in days).\n",
    "\n",
    "2) The lazy way (using `mod.add_planets_from_toi()`) - this scrapes the planetary info from the TOI catalogue in order to add them directly to the model."
   ]
  },
  {
   "cell_type": "code",
   "execution_count": null,
   "metadata": {},
   "outputs": [],
   "source": [
    "mod.add_planets_from_toi()\n",
    "mod.add_planet(\"f\", tcen=1793.2786,tcen_err=0.01,tdur=3.27/24,depth=480,period=29.54115,period_err=1e-4)"
   ]
  },
  {
   "attachments": {},
   "cell_type": "markdown",
   "metadata": {},
   "source": [
    "### Initialising the TESS lightcurve"
   ]
  },
  {
   "cell_type": "code",
   "execution_count": null,
   "metadata": {},
   "outputs": [],
   "source": [
    "mod.init_lc(fit_gp=False, fit_flat=True, cut_oot=True, bin_oot=False)"
   ]
  },
  {
   "attachments": {},
   "cell_type": "markdown",
   "metadata": {},
   "source": [
    "### Initialising the CHEOPS lightcurve"
   ]
  },
  {
   "cell_type": "code",
   "execution_count": null,
   "metadata": {},
   "outputs": [],
   "source": [
    "mod.init_cheops(use_bayes_fact=True, use_signif=False, overwrite=False)"
   ]
  },
  {
   "attachments": {},
   "cell_type": "markdown",
   "metadata": {},
   "source": [
    "### Initialising the full model"
   ]
  },
  {
   "attachments": {},
   "cell_type": "markdown",
   "metadata": {},
   "source": [
    "mod.init_model(use_mstar=False, use_logg=True,fit_phi_spline=True,fit_phi_gp=False, constrain_lds=True, fit_ttvs=False, assume_circ=False)"
   ]
  },
  {
   "attachments": {},
   "cell_type": "markdown",
   "metadata": {},
   "source": [
    "### Plotting"
   ]
  },
  {
   "cell_type": "code",
   "execution_count": null,
   "metadata": {},
   "outputs": [],
   "source": [
    "mod.plot_phot(src='tess',save=True)\n",
    "mod.plot_phot(src='k2',save=True)\n",
    "mod.plot_cheops(save=True,show_detrend=True)\n",
    "mod.plot_transits_fold(save=True)"
   ]
  },
  {
   "attachments": {},
   "cell_type": "markdown",
   "metadata": {},
   "source": [
    "### Sampling"
   ]
  },
  {
   "cell_type": "code",
   "execution_count": null,
   "metadata": {},
   "outputs": [],
   "source": [
    "mod.sample_model()"
   ]
  },
  {
   "attachments": {},
   "cell_type": "markdown",
   "metadata": {},
   "source": [
    "### Saving"
   ]
  },
  {
   "cell_type": "code",
   "execution_count": null,
   "metadata": {},
   "outputs": [],
   "source": [
    "mod.save_timeseries()\n",
    "mod.save_model_to_file()"
   ]
  },
  {
   "cell_type": "markdown",
   "metadata": {},
   "source": []
  }
 ],
 "metadata": {
  "kernelspec": {
   "display_name": "chexo",
   "language": "python",
   "name": "python3"
  },
  "language_info": {
   "codemirror_mode": {
    "name": "ipython",
    "version": 3
   },
   "file_extension": ".py",
   "mimetype": "text/x-python",
   "name": "python",
   "nbconvert_exporter": "python",
   "pygments_lexer": "ipython3",
   "version": "3.8.15"
  },
  "orig_nbformat": 4
 },
 "nbformat": 4,
 "nbformat_minor": 2
}
