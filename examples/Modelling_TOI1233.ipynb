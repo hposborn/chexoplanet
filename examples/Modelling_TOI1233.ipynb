{
 "cells": [
  {
   "cell_type": "markdown",
   "metadata": {},
   "source": [
    "# Modelling TOI-1233 with `chexoplanet`\n",
    "\n",
    "This tutorial is a good starting point to understand the `chexoplanet` code."
   ]
  },
  {
   "cell_type": "markdown",
   "metadata": {},
   "source": [
    "Let's import some modules:"
   ]
  },
  {
   "cell_type": "code",
   "execution_count": null,
   "metadata": {},
   "outputs": [],
   "source": [
    "import sys\n",
    "sys.path.append(\"/home/hosborn/home1/python\")\n",
    "from chexoplanet import newfit\n",
    "import numpy as np\n",
    "import pandas as pd"
   ]
  },
  {
   "cell_type": "markdown",
   "metadata": {},
   "source": [
    "#### Initialising the model\n",
    "To set up a chexoplanet model, you need to give it a name. If possible, use the same name which is found in the CHEOPS database (in this case, TOI1233 without a hyphen).\n",
    "\n",
    "It is worth including a comment specific to this model run, which will enable you to check between different model runs later on.\n",
    "\n",
    "You may also decide to specify the RA/Dec of the target here (using `astropy.coordinates.SkyCoord` object), which might help to search later. As may specifying the save file location `save_file_loc`."
   ]
  },
  {
   "cell_type": "code",
   "execution_count": 2,
   "metadata": {},
   "outputs": [],
   "source": [
    "mod = newfit.chexo_model(\"TOI1233\", comment=\"example_fit\", save_file_loc=\"/home/hosborn/home1/data/Cheops_data\")"
   ]
  },
  {
   "cell_type": "markdown",
   "metadata": {},
   "source": [
    "#### Adding a TESS lightcurve\n",
    "\n",
    "`chexoplanet` was specifically build to interact with data from other exoplanet missions natively, as almost all targets will have for example archival TESS photometry.\n",
    "\n",
    "The easiest way to access archival data is to use `get_tess` which piggy-backs on the functionality of `MonoTools.lightcurve`. This automatically searches Kepler, K2 and TESS data, downloading all available lightcurves:"
   ]
  },
  {
   "cell_type": "code",
   "execution_count": 3,
   "metadata": {},
   "outputs": [
    {
     "name": "stdout",
     "output_type": "stream",
     "text": [
      "Getting all IDs\n",
      "ts\n"
     ]
    }
   ],
   "source": [
    "mod.get_tess(tic=260647166)"
   ]
  },
  {
   "cell_type": "markdown",
   "metadata": {},
   "source": [
    "However, `MonoTools` is not the easiest to install, and `chexoplanet` also allows you to add lightcurves directly by specifying a time, flux and flux_err arrays to `add_lc`. Flux and errors should be in ppt. It's necessary, especially when there are multiple data sources (e.g. K2 & TESS), to also include the name of the lightcurve - in this case 'tess'.\n",
    "\n",
    "In either case, `chexoplanet` will initialise lightcurves at the location of `mod.lcs[src]` where src is e.g. 'tess'."
   ]
  },
  {
   "cell_type": "code",
   "execution_count": 4,
   "metadata": {},
   "outputs": [],
   "source": [
    "##Commented out as this would duplicate the line above\n",
    "#tess_lc=pd.read_csv(\"dummy_lightcurve.csv\")\n",
    "#mod.add_lc(time=tess_lc['time'], flux=(tess_lc['flux']-1.0)*1000, flux_err=tess_lc['flux_err']*1000, src='tess')"
   ]
  },
  {
   "cell_type": "markdown",
   "metadata": {},
   "source": [
    "#### Initialising Stellar Parameters\n",
    "\n",
    "Once again, this can be automatically read from the TIC using the data scraped by `MonoTools.lightcurve`. This is automatically done in `get_tess`.\n",
    "\n",
    "Alternatively stellar parameters can be added manually by giving `[value, neg_err, pos_err]` lists to `init_starpars`.\n",
    "\n",
    "Depending on which relative error is lowest, the final model can either use Mstar or logg, set by giving any function  `use_logg=True`, `use_Mstar=False` (only one can be set)."
   ]
  },
  {
   "cell_type": "code",
   "execution_count": 5,
   "metadata": {},
   "outputs": [],
   "source": [
    "mod.init_starpars(Rstar=[0.876, 0.007, 0.007],\n",
    "                  Mstar=[0.897, 0.042, 0.042],\n",
    "                  Teff=[5660, 61, 61],\n",
    "                  logg=[4.49, 0.11, 0.11])"
   ]
  },
  {
   "cell_type": "markdown",
   "metadata": {},
   "source": [
    "#### Adding CHEOPS observations\n",
    "\n",
    "The simplest way to add a cheops observation is to use `mod.add_cheops_lc()`, specifying the precise filekey wanted.\n",
    "\n",
    "If `download=True` then the data will be downloaded from Dace. In order to get private data, make sure you have a DACE log-in, have generated a DACE access token which is in your `.dacerc` file and, bizarrely, make sure you are actively logged into Dace on your browser (even then, this API access step may require a couple of attempts).\n",
    "\n",
    "You can also specify whether to use the standard \"Data Reduction Pipeline\" output (`DRP=True`) or whether to perform PSF modelling (using `PIPE=True`).\n",
    "\n",
    "In the case of PIPE data, which I recommend using, make sure that PIPE is downloaded from github at the most up-to-date version (you may require the `BG-star-fits` branch), that it has been installed via `pip install .` in the PIPE directory, that all the necessary config files have been downloaded (these do not come with the github package and you may need to contact PIPE creator Alexis Brandeker), and that the correct locations are set in `PIPE/pipe/config/conf.json`. Running PIPE may be time-consuming and take ~10mins per filekey."
   ]
  },
  {
   "cell_type": "code",
   "execution_count": 6,
   "metadata": {},
   "outputs": [],
   "source": [
    "# # Commented out - you will see why in a second\n",
    "# mod.add_cheops_lc('CH_PR110045_TG002701_V0200',DRP=False,PIPE=True)"
   ]
  },
  {
   "cell_type": "markdown",
   "metadata": {},
   "source": [
    "However, the easiest way to do all of this is to use `mod.get_cheops()`. This will perform the above step for all CHEOPS data found on DACE."
   ]
  },
  {
   "cell_type": "code",
   "execution_count": 7,
   "metadata": {},
   "outputs": [
    {
     "name": "stdout",
     "output_type": "stream",
     "text": [
      "['CH_PR100031_TG024301_V0200' 'CH_PR100031_TG023003_V0200'\n",
      " 'CH_PR100031_TG022701_V0200' 'CH_PR110045_TG002601_V0200'\n",
      " 'CH_PR100031_TG022901_V0200' 'CH_PR110045_TG002701_V0200'\n",
      " 'CH_PR100031_TG023001_V0200' 'CH_PR100031_TG023002_V0200']\n",
      "['CH_PR100031_TG024301_V0200' 'CH_PR100031_TG023003_V0200'\n",
      " 'CH_PR100031_TG022701_V0200' 'CH_PR110045_TG002601_V0200'\n",
      " 'CH_PR100031_TG022901_V0200' 'CH_PR110045_TG002701_V0200'\n",
      " 'CH_PR100031_TG023001_V0200' 'CH_PR100031_TG023002_V0200']\n",
      "Downloading PR100031_TG024301_V0200 with Dace\n"
     ]
    },
    {
     "name": "stderr",
     "output_type": "stream",
     "text": [
      "2023-05-02 11:02:19,235 - INFO - Downloading file on location : /home/hosborn/home1/data/Cheops_data/TOI1233/TOI1233_PR100031_TG024301_V0200_dace_download.tar.gz\n"
     ]
    },
    {
     "name": "stdout",
     "output_type": "stream",
     "text": [
      " Download : 524 MB"
     ]
    },
    {
     "name": "stderr",
     "output_type": "stream",
     "text": [
      "2023-05-02 11:03:29,423 - INFO - File downloaded on location : /home/hosborn/home1/data/Cheops_data/TOI1233/TOI1233_PR100031_TG024301_V0200_dace_download.tar.gz\n"
     ]
    },
    {
     "name": "stdout",
     "output_type": "stream",
     "text": [
      "\n",
      "Download done\n",
      "Succeeded downloading PR100031_TG024301_V0200 with Dace\n",
      "PR100031_TG024301_V0200/CH_PR100031_TG024301_TU2020-05-26T09-15-00_RPT_COR_DataReduction_V0200.pdf\n",
      "PR100031_TG024301_V0200/CH_PR100031_TG024301_TU2020-05-26T09-18-11_SCI_RAW_HkCe-SubArray_V0200.fits\n",
      "PR100031_TG024301_V0200/CH_PR100031_TG024301_TU2020-05-26T09-15-00_SCI_RAW_EventReport_V0200.fits\n",
      "PR100031_TG024301_V0200/CH_PR100031_TG024301_TU2020-05-26T09-18-11_DIAG_MOVIE_Lightcurve-RINF_V0200.mp4\n",
      "PR100031_TG024301_V0200/CH_PR100031_TG024301_TU2020-05-26T09-16-45_SCI_RAW_FullArray_V0200.fits\n",
      "PR100031_TG024301_V0200/CH_PR100031_TG024301_TU2020-05-26T09-18-11_SCI_COR_Lightcurve-DEFAULT_V0200.fits\n",
      "PR100031_TG024301_V0200/CH_PR100031_TG024301_TU2020-05-26T09-15-00_EXT_PRE_StarCatalogue-OBSID0001117140_V0200.fits\n",
      "PR100031_TG024301_V0200/CH_PR100031_TG024301_TU2020-05-26T09-16-20_SCI_RAW_HkCe-FullArray_V0200.fits\n",
      "PR100031_TG024301_V0200/CH_PR100031_TG024301_TU2020-05-26T09-18-11_SCI_COR_Lightcurve-OPTIMAL_V0200.fits\n",
      "PR100031_TG024301_V0200/CH_PR100031_TG024301_TU2020-05-26T09-18-11_SCI_COR_Lightcurve-RSUP_V0200.fits\n",
      "PR100031_TG024301_V0200/CH_PR100031_TG024301_TU2021-03-21T21-51-18_main_new_data_reduction_OBSID1117140_V0200.log\n",
      "PR100031_TG024301_V0200/CH_PR100031_TG024301_TU2020-05-26T09-15-24_SCI_RAW_HkOperationParameter_V0200.fits\n",
      "PR100031_TG024301_V0200/CH_PR100031_TG024301_TU2020-05-26T09-18-11_SCI_COR_Lightcurve-RINF_V0200.fits\n",
      "PR100031_TG024301_V0200/CH_PR100031_TG024301_TU2020-05-26T09-15-59_SCI_RAW_Attitude_V0200.fits\n",
      "PR100031_TG024301_V0200/CH_PR100031_TG024301_TU2020-05-26T09-15-11_SCI_RAW_HkExtended_V0200.fits\n",
      "PR100031_TG024301_V0200/CH_PR100031_TG024301_TU2020-05-26T09-18-11_SCI_CAL_SubArray_V0200.fits\n",
      "PR100031_TG024301_V0200/CH_PR100031_TG024301_TU2020-05-26T09-15-10_SCI_RAW_HkIfsw_V0200.fits\n",
      "PR100031_TG024301_V0200/CH_PR100031_TG024301_TU2020-05-26T09-15-59_SCI_RAW_HkAsy30759_V0200.fits\n",
      "PR100031_TG024301_V0200/CH_PR100031_TG024301_TU2020-05-26T09-18-11_DIAG_MOVIE_Lightcurve-OPTIMAL_V0200.mp4\n",
      "PR100031_TG024301_V0200/CH_PR100031_TG024301_TU2020-05-26T09-16-20_SCI_RAW_Centroid_V0200.fits\n",
      "PR100031_TG024301_V0200/CH_PR100031_TG024301_TU2020-05-26T09-15-54_SCI_RAW_HkCentroid_V0200.fits\n",
      "PR100031_TG024301_V0200/CH_PR100031_TG024301_TU2020-05-26T09-18-11_DIAG_MOVIE_Lightcurve-RSUP_V0200.mp4\n",
      "PR100031_TG024301_V0200/CH_PR100031_TG024301_TU2020-05-26T09-18-11_PIP_COR_PixelFlagMapSubArray_V0200.fits\n",
      "PR100031_TG024301_V0200/CH_PR100031_TG024301_TU2020-05-26T09-18-11_SCI_RAW_SubArray_V0200.fits\n",
      "PR100031_TG024301_V0200/CH_PR100031_TG024301_TU2020-05-26T09-15-11_SCI_RAW_HkDefault_V0200.fits\n",
      "PR100031_TG024301_V0200/CH_PR100031_TG024301_TU2020-05-26T09-18-11_SCI_COR_SubArray_V0200.fits\n",
      "PR100031_TG024301_V0200/CH_PR100031_TG024301_TU2020-05-26T09-18-11_DIAG_MOVIE_Lightcurve-DEFAULT_V0200.mp4\n",
      "new dir exists? True\n",
      "Tue May  2 11:04:08 2023 [0.00 min] ---------\n",
      "name = TOI1233\n",
      "visit = PR100031_TG024301_V0200\n",
      "datapath = /shares/home1/hosborn/data/Cheops_data/TOI1233/PR100031_TG024301_V0200\n",
      "version = 0\n",
      "outdir = /shares/home1/hosborn/data/Cheops_data/TOI1233/PR100031_TG024301_V0200/Outdata/00000\n",
      "file_log = /shares/home1/hosborn/data/Cheops_data/TOI1233/PR100031_TG024301_V0200/Outdata/00000/logfile.txt\n",
      "calibpath = /shares/home1/hosborn/data/PIPE_data\n",
      "file_att = /shares/home1/hosborn/data/Cheops_data/TOI1233/PR100031_TG024301_V0200/CH_PR100031_TG024301_TU2020-05-26T09-15-59_SCI_RAW_Attitude_V0200.fits\n",
      "file_sa_raw = /shares/home1/hosborn/data/Cheops_data/TOI1233/PR100031_TG024301_V0200/CH_PR100031_TG024301_TU2020-05-26T09-18-11_SCI_RAW_SubArray_V0200.fits\n",
      "file_hk = /shares/home1/hosborn/data/Cheops_data/TOI1233/PR100031_TG024301_V0200/CH_PR100031_TG024301_TU2020-05-26T09-15-11_SCI_RAW_HkExtended_V0200.fits\n",
      "file_im = None\n",
      "file_starcat = /shares/home1/hosborn/data/Cheops_data/TOI1233/PR100031_TG024301_V0200/CH_PR100031_TG024301_TU2020-05-26T09-15-00_EXT_PRE_StarCatalogue-OBSID0001117140_V0200.fits\n",
      "file_gain = /shares/home1/hosborn/data/PIPE_data/CH_TU2020-02-18T06-15-13_REF_APP_GainCorrection_V0109.fits\n",
      "file_nonlin = /shares/home1/hosborn/data/PIPE_data/nonlin.txt\n",
      "file_flats = /shares/home1/hosborn/data/PIPE_data/flats.fits\n",
      "plog_verbosity = 1\n",
      "Teff = None\n",
      "gain = None\n",
      "gain_median = True\n",
      "ron = None\n",
      "bias = None\n",
      "sa_range = None\n",
      "mjd2bjd = True\n",
      "binary = False\n",
      "psf_score = None\n",
      "psf_min_num = 12\n",
      "psf_rad = 200\n",
      "psf_filenames_file = None\n",
      "nthreads = 23\n",
      "bg_fit = -1\n",
      "resample_im_times = False\n",
      "bgstars = True\n",
      "limflux = 1e-05\n",
      "fit_bgstars = False\n",
      "lim_fit = 0.01\n",
      "bg_star_inrad = 5\n",
      "blur_res = 0.5\n",
      "centre = True\n",
      "centre_psf_filename = None\n",
      "source_window_radius = 30\n",
      "centre_off_x = -0.71\n",
      "centre_off_y = 1.055\n",
      "mask_badpix = True\n",
      "mask_level = 2\n",
      "smear_corr = True\n",
      "smear_resid_sa = False\n",
      "smear_resid_im = False\n",
      "remove_static = False\n",
      "pos_static = True\n",
      "flatfield = True\n",
      "darksub = True\n",
      "dark_min_snr = 15\n",
      "dark_min_level = 3.0\n",
      "mask_bad_dark = True\n",
      "non_lin = True\n",
      "cti_corr = True\n",
      "cti_t0 = 58800.0\n",
      "cti_scale = 0.0016\n",
      "cti_expo = -0.65\n",
      "cti_lim = 0.0333\n",
      "empiric_noise = False\n",
      "secondary = 1\n",
      "psflib0 = None\n",
      "psflib1 = None\n",
      "init_flux_ratio = None\n",
      "fix_flux2 = True\n",
      "robust_centre_binary = False\n",
      "save_mask_cube = True\n",
      "save_resid_cube = True\n",
      "save_bg_cube = False\n",
      "save_bg_models = False\n",
      "save_static = False\n",
      "save_psfmodel = True\n",
      "save_psf_list = True\n",
      "save_motion_mat = False\n",
      "save_noise_cubes = False\n",
      "save_gain = False\n",
      "save_astrometry = False\n",
      "klip = 1\n",
      "sigma_clip = 15\n",
      "sigma_clip_niter = 2\n",
      "empiric_sigma_clip = 4\n",
      "block_psf_level = 0.0001\n",
      "centfit_rad = 23\n",
      "centfit_subrad = 3\n",
      "motion_step = 0.3\n",
      "motion_nsteps = 3\n",
      "non_neg_lsq = False\n",
      "smear_fact = 5.65\n",
      "smear_const = 2e-07\n",
      "ccdsize = (1024, 1024)\n",
      "pixel_scale = 1.01\n",
      "sa_psfrad = 105\n",
      "fitrad = 30\n",
      "normrad = 25\n",
      "optimise_tree_iter = 5\n",
      "optimise_restarts = 3\n",
      "sa_optimise = False\n",
      "sa_test_klips = [1, 3, 5, 10]\n",
      "sa_test_fitrads = [25, 30, 40, 45, 50, 60]\n",
      "sa_test_BG = True\n",
      "sa_test_Dark = False\n",
      "sa_test_Stat = True\n",
      "im_optimise = False\n",
      "im_test_klips = [1, 3, 5, 10]\n",
      "im_test_fitrads = [25, 30]\n",
      "im_test_BG = True\n",
      "im_test_Dark = False\n",
      "im_test_Stat = True\n",
      "------------------\n",
      "Tue May  2 11:04:08 2023 [0.00 min] Reading T_EFF from starcat file \n",
      "Tue May  2 11:04:08 2023 [0.00 min]  Target T_eff = 5723.0\n",
      "Tue May  2 11:04:08 2023 [0.00 min] Reading HK and computing gain\n",
      "Tue May  2 11:04:08 2023 [0.00 min] Estimated gain = 1.9455 e/ADU +/- 6.4 ppm\n",
      "Tue May  2 11:04:08 2023 [0.00 min] Estimating bias and readout noise\n",
      "Tue May  2 11:04:08 2023 [0.00 min] Reading subarray bias areas\n",
      "Tue May  2 11:04:12 2023 [0.06 min] RON = 3.38 ADU = 6.58 elec\n",
      "Tue May  2 11:04:12 2023 [0.06 min] BIAS = 628.00 ADU = 1221.78 elec\n",
      "Tue May  2 11:04:12 2023 [0.06 min] Reading raw data cube [sa]\n",
      "Tue May  2 11:04:18 2023 [0.17 min] Applying flatfield (Teff=5723.0K) [sa]\n",
      "Tue May  2 11:05:17 2023 [1.14 min] Applying CTI correction. [sa]\n",
      "Tue May  2 11:05:20 2023 [1.20 min] Correcting non-linearity [sa]\n",
      "Tue May  2 11:05:22 2023 [1.23 min] Reading attitude data\n",
      "Tue May  2 11:05:22 2023 [1.24 min] Reading thermFront_2 sensor data\n",
      "Tue May  2 11:05:22 2023 [1.24 min] Load mask [2]\n",
      "Tue May  2 11:05:27 2023 [1.32 min] 0 pixels masked in subarray\n",
      "Tue May  2 11:05:27 2023 [1.32 min] Reading dark frames\n",
      "Tue May  2 11:05:32 2023 [1.40 min] Applying CTI correction to dark.\n",
      "Tue May  2 11:05:32 2023 [1.40 min] Dark current defined for 568/31415 = 1.81 pixels [sa]\n",
      "Tue May  2 11:05:32 2023 [1.40 min] Defining MJD to BJD conversion\n",
      "Tue May  2 11:05:37 2023 [1.48 min] PSF parameters: (x, y) = (257,859)\n",
      "Tue May  2 11:05:37 2023 [1.48 min] Teff = 5723K, MJD = 58996.0, exptime = 49.0\n",
      "Tue May  2 11:05:37 2023 [1.49 min] Range of TF2: (min, med, max) = (-11.9K, -11.6K, -11.4K)\n",
      "Tue May  2 11:05:37 2023 [1.49 min] Number of unique PSFs used: 14\n",
      "Tue May  2 11:05:38 2023 [1.50 min] PCA decomposing PSFs into 10 components\n"
     ]
    },
    {
     "ename": "KeyboardInterrupt",
     "evalue": "",
     "output_type": "error",
     "traceback": [
      "\u001b[0;31m---------------------------------------------------------------------------\u001b[0m",
      "\u001b[0;31mKeyboardInterrupt\u001b[0m                         Traceback (most recent call last)",
      "Cell \u001b[0;32mIn[7], line 1\u001b[0m\n\u001b[0;32m----> 1\u001b[0m mod\u001b[39m.\u001b[39;49mget_cheops()\n",
      "File \u001b[0;32m~/home1/python/chexoplanet/newfit.py:189\u001b[0m, in \u001b[0;36mchexo_model.get_cheops\u001b[0;34m(self, catname, n_prog, distthresh, download, PIPE, fks, **kwargs)\u001b[0m\n\u001b[1;32m    187\u001b[0m ifk\u001b[39m=\u001b[39mfk[\u001b[39m3\u001b[39m:] \u001b[39mif\u001b[39;00m fk[:\u001b[39m3\u001b[39m]\u001b[39m==\u001b[39m\u001b[39m\"\u001b[39m\u001b[39mCH_\u001b[39m\u001b[39m\"\u001b[39m \u001b[39melse\u001b[39;00m fk\n\u001b[1;32m    188\u001b[0m \u001b[39mif\u001b[39;00m \u001b[39mhasattr\u001b[39m(\u001b[39mself\u001b[39m,\u001b[39m'\u001b[39m\u001b[39mmonotools_lc\u001b[39m\u001b[39m'\u001b[39m):\n\u001b[0;32m--> 189\u001b[0m     \u001b[39mself\u001b[39;49m\u001b[39m.\u001b[39;49madd_cheops_lc(filekey\u001b[39m=\u001b[39;49mifk, fileloc\u001b[39m=\u001b[39;49m\u001b[39mNone\u001b[39;49;00m, download\u001b[39m=\u001b[39;49mdownload, PIPE\u001b[39m=\u001b[39;49mPIPE, DRP\u001b[39m=\u001b[39;49m\u001b[39m~\u001b[39;49mPIPE,\n\u001b[1;32m    190\u001b[0m                        mag\u001b[39m=\u001b[39;49m\u001b[39mself\u001b[39;49m\u001b[39m.\u001b[39;49mmonotools_lc\u001b[39m.\u001b[39;49mall_ids[\u001b[39m'\u001b[39;49m\u001b[39mtess\u001b[39;49m\u001b[39m'\u001b[39;49m][\u001b[39m'\u001b[39;49m\u001b[39mdata\u001b[39;49m\u001b[39m'\u001b[39;49m][\u001b[39m'\u001b[39;49m\u001b[39mGAIAmag\u001b[39;49m\u001b[39m'\u001b[39;49m],\u001b[39m*\u001b[39;49m\u001b[39m*\u001b[39;49mkwargs)\n\u001b[1;32m    191\u001b[0m \u001b[39melse\u001b[39;00m:\n\u001b[1;32m    192\u001b[0m     \u001b[39mself\u001b[39m\u001b[39m.\u001b[39madd_cheops_lc(filekey\u001b[39m=\u001b[39mifk, fileloc\u001b[39m=\u001b[39m\u001b[39mNone\u001b[39;00m, download\u001b[39m=\u001b[39mdownload, PIPE\u001b[39m=\u001b[39mPIPE, DRP\u001b[39m=\u001b[39m\u001b[39m~\u001b[39mPIPE,\n\u001b[1;32m    193\u001b[0m                        mag\u001b[39m=\u001b[39mthese_cheops_obs\u001b[39m.\u001b[39mloc[these_cheops_obs[\u001b[39m'\u001b[39m\u001b[39mfile_key\u001b[39m\u001b[39m'\u001b[39m]\u001b[39m==\u001b[39mfk,\u001b[39m'\u001b[39m\u001b[39mobj_mag_v\u001b[39m\u001b[39m'\u001b[39m],\u001b[39m*\u001b[39m\u001b[39m*\u001b[39mkwargs)\n",
      "File \u001b[0;32m~/home1/python/chexoplanet/newfit.py:405\u001b[0m, in \u001b[0;36mchexo_model.add_cheops_lc\u001b[0;34m(self, filekey, fileloc, download, ylims, DRP, PIPE, PIPE_bin_src, mag, **kwargs)\u001b[0m\n\u001b[1;32m    402\u001b[0m     \u001b[39massert\u001b[39;00m os\u001b[39m.\u001b[39mpath\u001b[39m.\u001b[39misdir(os\u001b[39m.\u001b[39mpath\u001b[39m.\u001b[39mjoin(out_dir,filekey)), \u001b[39m\"\u001b[39m\u001b[39mUnable to download filekey \u001b[39m\u001b[39m\"\u001b[39m\u001b[39m+\u001b[39mfilekey\u001b[39m+\u001b[39m\u001b[39m\"\u001b[39m\u001b[39m using Dace.\u001b[39m\u001b[39m\"\u001b[39m\n\u001b[1;32m    404\u001b[0m \u001b[39mif\u001b[39;00m fileloc \u001b[39mis\u001b[39;00m \u001b[39mNone\u001b[39;00m \u001b[39mand\u001b[39;00m download \u001b[39mand\u001b[39;00m PIPE:\n\u001b[0;32m--> 405\u001b[0m     fileloc \u001b[39m=\u001b[39m \u001b[39mself\u001b[39;49m\u001b[39m.\u001b[39;49mrun_PIPE(out_dir,filekey,mag,\u001b[39m*\u001b[39;49m\u001b[39m*\u001b[39;49mkwargs)\n\u001b[1;32m    407\u001b[0m \u001b[39mif\u001b[39;00m \u001b[39mnot\u001b[39;00m \u001b[39mhasattr\u001b[39m(\u001b[39mself\u001b[39m,\u001b[39m\"\u001b[39m\u001b[39mcheops_lc\u001b[39m\u001b[39m\"\u001b[39m):\n\u001b[1;32m    408\u001b[0m     \u001b[39mself\u001b[39m\u001b[39m.\u001b[39mcheops_lc \u001b[39m=\u001b[39m pd\u001b[39m.\u001b[39mDataFrame()\n",
      "File \u001b[0;32m~/home1/python/chexoplanet/newfit.py:332\u001b[0m, in \u001b[0;36mchexo_model.run_PIPE\u001b[0;34m(self, out_dir, fk, mag, overwrite, make_psf, binary, **kwargs)\u001b[0m\n\u001b[1;32m    330\u001b[0m \u001b[39melse\u001b[39;00m:\n\u001b[1;32m    331\u001b[0m     pc \u001b[39m=\u001b[39m PipeControl(pps)\n\u001b[0;32m--> 332\u001b[0m     pc\u001b[39m.\u001b[39;49mprocess_eigen()\n\u001b[1;32m    333\u001b[0m     \u001b[39mif\u001b[39;00m make_psf:\n\u001b[1;32m    334\u001b[0m         pc\u001b[39m.\u001b[39mmake_psf_lib()\n",
      "File \u001b[0;32m~/home1/anaconda3/envs/chexo/lib/python3.8/site-packages/pipe/pipe_control.py:41\u001b[0m, in \u001b[0;36mPipeControl.process_eigen\u001b[0;34m(self)\u001b[0m\n\u001b[1;32m     35\u001b[0m \u001b[39mdef\u001b[39;00m \u001b[39mprocess_eigen\u001b[39m(\u001b[39mself\u001b[39m):\n\u001b[1;32m     36\u001b[0m \u001b[39m    \u001b[39m\u001b[39m\"\"\"Process PSF photometry as defined by the pipe_param parameters,\u001b[39;00m\n\u001b[1;32m     37\u001b[0m \u001b[39m    on both subarrays and imagettes (if they exist).\u001b[39;00m\n\u001b[1;32m     38\u001b[0m \u001b[39m    klip is how many principal components should be\u001b[39;00m\n\u001b[1;32m     39\u001b[0m \u001b[39m    used in PSF fit.\u001b[39;00m\n\u001b[1;32m     40\u001b[0m \u001b[39m    \"\"\"\u001b[39;00m\n\u001b[0;32m---> 41\u001b[0m     \u001b[39mself\u001b[39;49m\u001b[39m.\u001b[39;49mprocess_eigen_sa()\n\u001b[1;32m     42\u001b[0m     \u001b[39mif\u001b[39;00m \u001b[39mself\u001b[39m\u001b[39m.\u001b[39mpps\u001b[39m.\u001b[39mfile_im \u001b[39mis\u001b[39;00m \u001b[39mnot\u001b[39;00m \u001b[39mNone\u001b[39;00m:\n\u001b[1;32m     43\u001b[0m         \u001b[39mself\u001b[39m\u001b[39m.\u001b[39mprocess_eigen_im()\n",
      "File \u001b[0;32m~/home1/anaconda3/envs/chexo/lib/python3.8/site-packages/pipe/pipe_control.py:52\u001b[0m, in \u001b[0;36mPipeControl.process_eigen_sa\u001b[0;34m(self)\u001b[0m\n\u001b[1;32m     47\u001b[0m \u001b[39m\u001b[39m\u001b[39m\"\"\"Process PSF photometry as defined by the pipe_param parameters,\u001b[39;00m\n\u001b[1;32m     48\u001b[0m \u001b[39mon subarrays. klip is how many principal components should be\u001b[39;00m\n\u001b[1;32m     49\u001b[0m \u001b[39mused in PSF fit.\u001b[39;00m\n\u001b[1;32m     50\u001b[0m \u001b[39m\"\"\"\u001b[39;00m\n\u001b[1;32m     51\u001b[0m \u001b[39mif\u001b[39;00m \u001b[39mself\u001b[39m\u001b[39m.\u001b[39mpp \u001b[39mis\u001b[39;00m \u001b[39mNone\u001b[39;00m:\n\u001b[0;32m---> 52\u001b[0m     \u001b[39mself\u001b[39;49m\u001b[39m.\u001b[39;49mpre_proc()\n\u001b[1;32m     53\u001b[0m \u001b[39mself\u001b[39m\u001b[39m.\u001b[39msa_scale, \u001b[39mself\u001b[39m\u001b[39m.\u001b[39msa_bg, \u001b[39mself\u001b[39m\u001b[39m.\u001b[39msa_flux, \u001b[39mself\u001b[39m\u001b[39m.\u001b[39msa_err, \u001b[39mself\u001b[39m\u001b[39m.\u001b[39msa_sel, \u001b[39mself\u001b[39m\u001b[39m.\u001b[39msa_w \u001b[39m=\u001b[39m \\\n\u001b[1;32m     54\u001b[0m     \u001b[39mself\u001b[39m\u001b[39m.\u001b[39mpp\u001b[39m.\u001b[39mprocess_eigen_sa()\n",
      "File \u001b[0;32m~/home1/anaconda3/envs/chexo/lib/python3.8/site-packages/pipe/pipe_control.py:30\u001b[0m, in \u001b[0;36mPipeControl.pre_proc\u001b[0;34m(self, pproc)\u001b[0m\n\u001b[1;32m     25\u001b[0m \u001b[39m\u001b[39m\u001b[39m\"\"\"Initialise PsfPhot class and do pre-processing on data (i.e. basic \u001b[39;00m\n\u001b[1;32m     26\u001b[0m \u001b[39mprocessing before photometric PSF extraction). If pproc is False, the\u001b[39;00m\n\u001b[1;32m     27\u001b[0m \u001b[39mpre-processing step is skipped.\u001b[39;00m\n\u001b[1;32m     28\u001b[0m \u001b[39m\"\"\"\u001b[39;00m\n\u001b[1;32m     29\u001b[0m os\u001b[39m.\u001b[39mmakedirs(\u001b[39mself\u001b[39m\u001b[39m.\u001b[39mpps\u001b[39m.\u001b[39moutdir, exist_ok\u001b[39m=\u001b[39m\u001b[39mTrue\u001b[39;00m)\n\u001b[0;32m---> 30\u001b[0m \u001b[39mself\u001b[39m\u001b[39m.\u001b[39mpp \u001b[39m=\u001b[39m PsfPhot(\u001b[39mself\u001b[39;49m\u001b[39m.\u001b[39;49mpps)\n\u001b[1;32m     31\u001b[0m \u001b[39mself\u001b[39m\u001b[39m.\u001b[39mpp\u001b[39m.\u001b[39mmess(\u001b[39mf\u001b[39m\u001b[39m'\u001b[39m\u001b[39m--- \u001b[39m\u001b[39m{\u001b[39;00m\u001b[39mself\u001b[39m\u001b[39m.\u001b[39mpps\u001b[39m.\u001b[39mname\u001b[39m}\u001b[39;00m\u001b[39m/\u001b[39m\u001b[39m{\u001b[39;00m\u001b[39mself\u001b[39m\u001b[39m.\u001b[39mpps\u001b[39m.\u001b[39mvisit\u001b[39m}\u001b[39;00m\u001b[39m (version \u001b[39m\u001b[39m{\u001b[39;00m\u001b[39mself\u001b[39m\u001b[39m.\u001b[39mpps\u001b[39m.\u001b[39mversion\u001b[39m}\u001b[39;00m\u001b[39m)\u001b[39m\u001b[39m'\u001b[39m)\n\u001b[1;32m     32\u001b[0m \u001b[39mif\u001b[39;00m pproc: \u001b[39mself\u001b[39m\u001b[39m.\u001b[39mpp\u001b[39m.\u001b[39mpre_process()\n",
      "File \u001b[0;32m~/home1/anaconda3/envs/chexo/lib/python3.8/site-packages/pipe/psf_phot.py:160\u001b[0m, in \u001b[0;36mPsfPhot.__init__\u001b[0;34m(self, pipe_params)\u001b[0m\n\u001b[1;32m    157\u001b[0m \u001b[39mself\u001b[39m\u001b[39m.\u001b[39mim_mad \u001b[39m=\u001b[39m \u001b[39mNone\u001b[39;00m\n\u001b[1;32m    159\u001b[0m \u001b[39m# Read and initialise data from files\u001b[39;00m\n\u001b[0;32m--> 160\u001b[0m \u001b[39mself\u001b[39;49m\u001b[39m.\u001b[39;49mread_data()\n",
      "File \u001b[0;32m~/home1/anaconda3/envs/chexo/lib/python3.8/site-packages/pipe/psf_phot.py:188\u001b[0m, in \u001b[0;36mPsfPhot.read_data\u001b[0;34m(self)\u001b[0m\n\u001b[1;32m    186\u001b[0m \u001b[39mself\u001b[39m\u001b[39m.\u001b[39mread_darks()\n\u001b[1;32m    187\u001b[0m \u001b[39mself\u001b[39m\u001b[39m.\u001b[39mmake_mjd2bjd_function()\n\u001b[0;32m--> 188\u001b[0m \u001b[39mself\u001b[39;49m\u001b[39m.\u001b[39;49mdefine_psf_library()\n\u001b[1;32m    189\u001b[0m \u001b[39mself\u001b[39m\u001b[39m.\u001b[39mread_starcat()\n",
      "File \u001b[0;32m~/home1/anaconda3/envs/chexo/lib/python3.8/site-packages/pipe/psf_phot.py:256\u001b[0m, in \u001b[0;36mPsfPhot.define_psf_library\u001b[0;34m(self)\u001b[0m\n\u001b[1;32m    253\u001b[0m     save_psf_filenames(os\u001b[39m.\u001b[39mpath\u001b[39m.\u001b[39mjoin(\u001b[39mself\u001b[39m\u001b[39m.\u001b[39mpps\u001b[39m.\u001b[39moutdir, \u001b[39m'\u001b[39m\u001b[39mpsf_filenames.txt\u001b[39m\u001b[39m'\u001b[39m), psf_files)\n\u001b[1;32m    255\u001b[0m \u001b[39mself\u001b[39m\u001b[39m.\u001b[39mmess(\u001b[39m'\u001b[39m\u001b[39mPCA decomposing PSFs into \u001b[39m\u001b[39m{:d}\u001b[39;00m\u001b[39m components\u001b[39m\u001b[39m'\u001b[39m\u001b[39m.\u001b[39mformat(num_eigen))\n\u001b[0;32m--> 256\u001b[0m spca \u001b[39m=\u001b[39m SplinePCA(psflist, num_eigen\u001b[39m=\u001b[39;49mnum_eigen)\n\u001b[1;32m    257\u001b[0m eigen_splines \u001b[39m=\u001b[39m spca\u001b[39m.\u001b[39mget_eigen_spline_lib()\n\u001b[1;32m    258\u001b[0m \u001b[39mself\u001b[39m\u001b[39m.\u001b[39meigen_psf \u001b[39m=\u001b[39m [psf_model(psf_spl) \u001b[39mfor\u001b[39;00m psf_spl \u001b[39min\u001b[39;00m eigen_splines]\n",
      "File \u001b[0;32m~/home1/anaconda3/envs/chexo/lib/python3.8/site-packages/pipe/spline_pca.py:32\u001b[0m, in \u001b[0;36mSplinePCA.__init__\u001b[0;34m(self, psf_lib, radius, num_eigen)\u001b[0m\n\u001b[1;32m     25\u001b[0m \u001b[39mdef\u001b[39;00m \u001b[39m__init__\u001b[39m(\u001b[39mself\u001b[39m, psf_lib, radius\u001b[39m=\u001b[39m\u001b[39m50\u001b[39m, num_eigen\u001b[39m=\u001b[39m\u001b[39mNone\u001b[39;00m):\n\u001b[1;32m     26\u001b[0m \u001b[39m    \u001b[39m\u001b[39m\"\"\"psf_lib is a list of 2D splines defining PSFs, \u001b[39;00m\n\u001b[1;32m     27\u001b[0m \u001b[39m    radius is the radius out to which they are valid.\u001b[39;00m\n\u001b[1;32m     28\u001b[0m \u001b[39m    num_eigen is the number of principal components to \u001b[39;00m\n\u001b[1;32m     29\u001b[0m \u001b[39m    be extracted and is defaulted to the maximum possible\u001b[39;00m\n\u001b[1;32m     30\u001b[0m \u001b[39m    (the length of the psf_lib)\u001b[39;00m\n\u001b[1;32m     31\u001b[0m \u001b[39m    \"\"\"\u001b[39;00m\n\u001b[0;32m---> 32\u001b[0m     psf_matrix \u001b[39m=\u001b[39m make_psf_matrix(normalise_psf(psf_lib, radius\u001b[39m=\u001b[39;49mradius))\n\u001b[1;32m     33\u001b[0m     \u001b[39mself\u001b[39m\u001b[39m.\u001b[39mmedian \u001b[39m=\u001b[39m np\u001b[39m.\u001b[39mmedian(psf_matrix, axis\u001b[39m=\u001b[39m\u001b[39m0\u001b[39m)\n\u001b[1;32m     34\u001b[0m     \u001b[39mself\u001b[39m\u001b[39m.\u001b[39mtck0 \u001b[39m=\u001b[39m psf_lib[\u001b[39m0\u001b[39m]\u001b[39m.\u001b[39mtck[\u001b[39m0\u001b[39m]\n",
      "File \u001b[0;32m~/home1/anaconda3/envs/chexo/lib/python3.8/site-packages/pipe/spline_pca.py:150\u001b[0m, in \u001b[0;36mnormalise_psf\u001b[0;34m(psf_lib, radius)\u001b[0m\n\u001b[1;32m    146\u001b[0m \u001b[39mdef\u001b[39;00m \u001b[39mnormalise_psf\u001b[39m(psf_lib, radius\u001b[39m=\u001b[39m\u001b[39m50\u001b[39m):\n\u001b[1;32m    147\u001b[0m \u001b[39m    \u001b[39m\u001b[39m\"\"\"Given a list of PSF splines in psf_lib, return a list of the\u001b[39;00m\n\u001b[1;32m    148\u001b[0m \u001b[39m    same splines normalised by their integral out to radius.\u001b[39;00m\n\u001b[1;32m    149\u001b[0m \u001b[39m    \"\"\"\u001b[39;00m\n\u001b[0;32m--> 150\u001b[0m     norms \u001b[39m=\u001b[39m psf_integral(psf_lib, radius)\n\u001b[1;32m    151\u001b[0m     ret_lib \u001b[39m=\u001b[39m copy\u001b[39m.\u001b[39mdeepcopy(psf_lib)\n\u001b[1;32m    152\u001b[0m     \u001b[39mfor\u001b[39;00m n \u001b[39min\u001b[39;00m \u001b[39mrange\u001b[39m(\u001b[39mlen\u001b[39m(ret_lib)):\n",
      "File \u001b[0;32m~/home1/anaconda3/envs/chexo/lib/python3.8/site-packages/pipe/spline_pca.py:163\u001b[0m, in \u001b[0;36mpsf_integral\u001b[0;34m(psf_lib, radius)\u001b[0m\n\u001b[1;32m    161\u001b[0m norms \u001b[39m=\u001b[39m np\u001b[39m.\u001b[39mzeros(\u001b[39mlen\u001b[39m(psf_lib))\n\u001b[1;32m    162\u001b[0m \u001b[39mfor\u001b[39;00m n \u001b[39min\u001b[39;00m \u001b[39mrange\u001b[39m(\u001b[39mlen\u001b[39m(psf_lib)):\n\u001b[0;32m--> 163\u001b[0m     norms[n] \u001b[39m=\u001b[39m phot(psf_lib[n], radius\u001b[39m=\u001b[39;49mradius)\n\u001b[1;32m    164\u001b[0m \u001b[39mreturn\u001b[39;00m norms\n",
      "File \u001b[0;32m~/home1/anaconda3/envs/chexo/lib/python3.8/site-packages/pipe/spline_pca.py:171\u001b[0m, in \u001b[0;36mphot\u001b[0;34m(psf_fun, radius, sample)\u001b[0m\n\u001b[1;32m    167\u001b[0m \u001b[39mdef\u001b[39;00m \u001b[39mphot\u001b[39m(psf_fun, radius\u001b[39m=\u001b[39m\u001b[39m50\u001b[39m, sample\u001b[39m=\u001b[39m\u001b[39m10\u001b[39m):\n\u001b[1;32m    168\u001b[0m \u001b[39m    \u001b[39m\u001b[39m\"\"\"Integrate PSF spline function over circular region\u001b[39;00m\n\u001b[1;32m    169\u001b[0m \u001b[39m    defined by radius\u001b[39;00m\n\u001b[1;32m    170\u001b[0m \u001b[39m    \"\"\"\u001b[39;00m\n\u001b[0;32m--> 171\u001b[0m     pm \u001b[39m=\u001b[39m psf_model(psf_fun, norm_rad\u001b[39m=\u001b[39;49mradius, sample\u001b[39m=\u001b[39;49msample)\n\u001b[1;32m    172\u001b[0m     \u001b[39mreturn\u001b[39;00m pm\u001b[39m.\u001b[39mnorm\n",
      "File \u001b[0;32m~/home1/anaconda3/envs/chexo/lib/python3.8/site-packages/pipe/psf_model.py:77\u001b[0m, in \u001b[0;36mpsf_model.__init__\u001b[0;34m(self, psf_spl, norm_rad, sample)\u001b[0m\n\u001b[1;32m     75\u001b[0m \u001b[39mself\u001b[39m\u001b[39m.\u001b[39mmap \u001b[39m=\u001b[39m map_coo()\n\u001b[1;32m     76\u001b[0m \u001b[39mself\u001b[39m\u001b[39m.\u001b[39mpsf_spl \u001b[39m=\u001b[39m psf_spl\n\u001b[0;32m---> 77\u001b[0m \u001b[39mself\u001b[39m\u001b[39m.\u001b[39mnorm \u001b[39m=\u001b[39m \u001b[39mself\u001b[39;49m\u001b[39m.\u001b[39;49mnorm_psf(radius\u001b[39m=\u001b[39;49mnorm_rad, sample\u001b[39m=\u001b[39;49msample)\n",
      "File \u001b[0;32m~/home1/anaconda3/envs/chexo/lib/python3.8/site-packages/pipe/psf_model.py:81\u001b[0m, in \u001b[0;36mpsf_model.norm_psf\u001b[0;34m(self, radius, sample)\u001b[0m\n\u001b[1;32m     79\u001b[0m \u001b[39mdef\u001b[39;00m \u001b[39mnorm_psf\u001b[39m(\u001b[39mself\u001b[39m, radius, sample):\n\u001b[1;32m     80\u001b[0m     x \u001b[39m=\u001b[39m np\u001b[39m.\u001b[39mlinspace(\u001b[39m-\u001b[39mradius, radius, \u001b[39m2\u001b[39m\u001b[39m*\u001b[39mradius\u001b[39m*\u001b[39msample\u001b[39m+\u001b[39m\u001b[39m1\u001b[39m)\n\u001b[0;32m---> 81\u001b[0m     psf_frame \u001b[39m=\u001b[39m \u001b[39mself\u001b[39;49m\u001b[39m.\u001b[39;49m\u001b[39m__call__\u001b[39;49m(x, x, circular\u001b[39m=\u001b[39;49m\u001b[39mTrue\u001b[39;49;00m)\n\u001b[1;32m     82\u001b[0m     \u001b[39mreturn\u001b[39;00m np\u001b[39m.\u001b[39msum(psf_frame)\u001b[39m/\u001b[39msample\u001b[39m*\u001b[39m\u001b[39m*\u001b[39m\u001b[39m2\u001b[39m\n",
      "File \u001b[0;32m~/home1/anaconda3/envs/chexo/lib/python3.8/site-packages/pipe/psf_model.py:92\u001b[0m, in \u001b[0;36mpsf_model.__call__\u001b[0;34m(self, x, y, grid, circular)\u001b[0m\n\u001b[1;32m     90\u001b[0m \u001b[39mif\u001b[39;00m circular:\n\u001b[1;32m     91\u001b[0m     support \u001b[39m=\u001b[39m xx\u001b[39m*\u001b[39m\u001b[39m*\u001b[39m\u001b[39m2\u001b[39m\u001b[39m+\u001b[39myy\u001b[39m*\u001b[39m\u001b[39m*\u001b[39m\u001b[39m2\u001b[39m \u001b[39m<\u001b[39m\u001b[39m=\u001b[39m \u001b[39mmin\u001b[39m(np\u001b[39m.\u001b[39mmax(x\u001b[39m*\u001b[39m\u001b[39m*\u001b[39m\u001b[39m2\u001b[39m), np\u001b[39m.\u001b[39mmax(y\u001b[39m*\u001b[39m\u001b[39m*\u001b[39m\u001b[39m2\u001b[39m))\n\u001b[0;32m---> 92\u001b[0m     \u001b[39mreturn\u001b[39;00m support\u001b[39m*\u001b[39m\u001b[39mself\u001b[39;49m\u001b[39m.\u001b[39;49mpsf_spl(px, py, grid\u001b[39m=\u001b[39;49m\u001b[39mFalse\u001b[39;49;00m)\n\u001b[1;32m     93\u001b[0m \u001b[39mreturn\u001b[39;00m \u001b[39mself\u001b[39m\u001b[39m.\u001b[39mpsf_spl(px, py, grid\u001b[39m=\u001b[39m\u001b[39mFalse\u001b[39;00m)\n",
      "File \u001b[0;32m~/home1/anaconda3/envs/chexo/lib/python3.8/site-packages/scipy/interpolate/_fitpack2.py:947\u001b[0m, in \u001b[0;36m_BivariateSplineBase.__call__\u001b[0;34m(self, x, y, dx, dy, grid)\u001b[0m\n\u001b[1;32m    945\u001b[0m         \u001b[39mraise\u001b[39;00m \u001b[39mValueError\u001b[39;00m(\u001b[39m\"\u001b[39m\u001b[39mError code returned by pardeu: \u001b[39m\u001b[39m%s\u001b[39;00m\u001b[39m\"\u001b[39m \u001b[39m%\u001b[39m ier)\n\u001b[1;32m    946\u001b[0m \u001b[39melse\u001b[39;00m:\n\u001b[0;32m--> 947\u001b[0m     z, ier \u001b[39m=\u001b[39m dfitpack\u001b[39m.\u001b[39;49mbispeu(tx, ty, c, kx, ky, x, y)\n\u001b[1;32m    948\u001b[0m     \u001b[39mif\u001b[39;00m \u001b[39mnot\u001b[39;00m ier \u001b[39m==\u001b[39m \u001b[39m0\u001b[39m:\n\u001b[1;32m    949\u001b[0m         \u001b[39mraise\u001b[39;00m \u001b[39mValueError\u001b[39;00m(\u001b[39m\"\u001b[39m\u001b[39mError code returned by bispeu: \u001b[39m\u001b[39m%s\u001b[39;00m\u001b[39m\"\u001b[39m \u001b[39m%\u001b[39m ier)\n",
      "\u001b[0;31mKeyboardInterrupt\u001b[0m: "
     ]
    }
   ],
   "source": [
    "mod.get_cheops()"
   ]
  },
  {
   "cell_type": "code",
   "execution_count": null,
   "metadata": {},
   "outputs": [
    {
     "name": "stdout",
     "output_type": "stream",
     "text": [
      "('/shares/home1/hosborn/data/Cheops_data', '/shares/home1/hosborn/data/PIPE_data')\n"
     ]
    }
   ],
   "source": [
    "from pipe import PipeParam, PipeControl, config\n",
    "print(config.get_conf_paths())"
   ]
  },
  {
   "cell_type": "markdown",
   "metadata": {},
   "source": [
    "##### Is there really a planet here? \n",
    "We can use `mod.model_comparison_cheops()` will fit two models for each filekey with a transiting planet: one with a transit, and one without. This will then allow us to derive a Bayes Factor and assess whether the transit model is justified."
   ]
  },
  {
   "cell_type": "markdown",
   "metadata": {},
   "source": [
    "##### Adding RVs\n",
    "The model supports radial velocities from multiple instruments. These should be added on a per-instrument basis by giving `mod.add_rvs` arrays of time (`x`), RV in m/s (`y`), RV_err in m/s (`yerr`), and the instrument name (`name`).\n",
    "\n",
    "`npoly_rv` (default=2) sets the order of polynomial to use to fit background drifts.\n",
    "\n",
    "`rv_mass_prior` can be `'logK'` (default - log amplitude prior), `'K'` (linear amplitude prior), or `'popMp'` (using the planet radius to compute an expected (log)Mp for the planets given the exoplanet population)"
   ]
  },
  {
   "cell_type": "code",
   "execution_count": null,
   "metadata": {},
   "outputs": [
    {
     "name": "stdout",
     "output_type": "stream",
     "text": [
      "['PFS2']\n"
     ]
    }
   ],
   "source": [
    "#Getting PFS RV data from Vizier:\n",
    "from astroquery.vizier import Vizier\n",
    "pfs_dat=Vizier(catalog=\"J/ApJS/256/33/table4\").query_constraints(TOI=\"1233\")[0].to_pandas()\n",
    "\n",
    "#Adding RVs to model:\n",
    "mod.add_rvs(pfs_dat[\"JD\"]-2457000,pfs_dat[\"RVel\"],pfs_dat[\"e_RVel\"],pd.unique(pfs_dat[\"Inst\"])[0])"
   ]
  },
  {
   "cell_type": "markdown",
   "metadata": {},
   "source": [
    "#### Adding planets to a model\n",
    "\n",
    "There are, as before, two ways to add planets to a model:\n",
    "\n",
    "1) The precise way (using `mod.add_planet()`) - Here you should specify the planet name and then initial values for the modelling, namely: `tcen` (transit epoch; same units as the data in `mod.lcs`), `tcen_err`, `tdur` (duration in days), `depth` (as a ratio), `period` and `period_err` (in days).\n",
    "\n",
    "2) The lazy way (using `mod.add_planets_from_toi()`) - this scrapes the planetary info from the TOI catalogue in order to add them directly to the model."
   ]
  },
  {
   "cell_type": "code",
   "execution_count": null,
   "metadata": {},
   "outputs": [],
   "source": [
    "mod.add_planets_from_toi() #Getting planets bcde\n",
    "mod.add_planet(\"f\", tcen=1793.2786,tcen_err=0.01,tdur=3.27/24,depth=480,period=29.54115,period_err=1e-4) #Adding planet f"
   ]
  },
  {
   "cell_type": "markdown",
   "metadata": {},
   "source": [
    "### Initialising the TESS lightcurve\n",
    "\n",
    "Here we have more choices to make.\n",
    "\n",
    "The first question is how to detrend the TESS data, for which there are two options:\n",
    "\n",
    "`fit_gp` or `fit_flat`. In the first case we train a SHO celerite GP on out-of-transit data and then co-fit it to the lightcurve alongside the transit mode. In the latter case, we mask the transits and fit a spline to the lightcurve, subtracting it (NB `flat_knotdist` determines the knot/breakpoint distance of the spline - default:`0.9`, and `mask_distance` gives the distance in transit durations away from the expected transit times to mask - default:`0.55`)\n",
    "\n",
    "Next we also want to know: how much TESS data do we need to use? Using all TESS points will drastically increase runtime. Here are two options:\n",
    "\n",
    "`cut_oot` (i.e. Cut out-of-transit points), or `bin_oot` (bin out-of-transit data). The former is a good idea when running `fit_flat`, while the latter works best for `fit_gp` (where correlations are important). These two options are parameterised using `cut_distance` - effectively how many transit durations away from the transits should we cut (default is `3.75`). `bin_size` determines the size in days of binned points (default:`1/48`)"
   ]
  },
  {
   "cell_type": "code",
   "execution_count": null,
   "metadata": {},
   "outputs": [],
   "source": [
    "mod.init_lc(fit_gp=False, fit_flat=True, cut_oot=True, bin_oot=False)"
   ]
  },
  {
   "cell_type": "markdown",
   "metadata": {},
   "source": [
    "### Initialising the CHEOPS lightcurve\n",
    "\n",
    "With any CHEOPS lightcurve, decorrelation is typically necessary against hyperparameters such as the centroid, background, & trigonometric functions of the roll angle. The question is typically \"what decorrelations are necessary?\". `chexoplanet` models individual CHEOPS observations using all available parameters (with both linear and quadratic terms). We can then, like `py_cheops`, use statistics to decide which of the decorrelation parameters are statistically likely. The two ways to do this are to simply take parameters who have a statistically non-zero gradient, or to use the Bayes factor.\n",
    "\n",
    "Other useful options when initialising CHEOPS data:\n",
    "* `force_no_dydt` - make sure that time (t) is not used as a decorrelator (for in/egresses this could result in detrending away the transit)\n",
    "*  `make_detren_params_global` - whether to perform a second statistical analysis is then applied between all visits to determine whether detrending parameters come from the same base distribution and can therefore be shared between visits (defaults to True)\n",
    "* `force_detrend_pars` - a dictionary of parameter lists forcing the model to use certain detrending parameters, e.g. `{'lin':['time','bg'],'quad':['time']}` \n",
    "*  `overwrite` - If the CHEOPS visit has already been modelled, then the default is to reload that model from file and use the derived parameters, so setting `overwrite=True` enforces a new model run.\n",
    "* `signif_thresh` - the threshold to use in sigma for a \"significant\" detrending. Defaults to a conservative 1.25\n",
    "* `linpars` & `quadpars` - the initial set of detrending parameters to start from. If `None`, the following are used for both linear and quadratic: `['sin1phi', 'cos1phi', 'sin2phi', 'cos2phi', 'sin3phi', 'cos3phi', 'bg', 'centroidx', 'centroidy', 'time', 'smear', 'deltaT']`"
   ]
  },
  {
   "cell_type": "code",
   "execution_count": null,
   "metadata": {},
   "outputs": [],
   "source": [
    "mod.init_cheops(use_bayes_fact=True, use_signif=False, overwrite=False)"
   ]
  },
  {
   "cell_type": "markdown",
   "metadata": {},
   "source": [
    "### Initialising the full model\n",
    "\n",
    "Now we can have `chexoplanet` build the entire model, using both survey (e.g. TESS) data and multiple CHEOPS visits.\n",
    "\n",
    "There are some important things to potentially add at this stage:\n",
    "\n",
    "##### Additional CHEOPS roll angle detrending\n",
    "CHEOPS data typically contains short-timescale variations as a function of roll angle that are not well absorbed by the trigonometric functions. Hence, GPs or splines as a function of roll angle are typically used. These can be activated here using `fit_phi_gp` (which uses a celerite SHM kernel) or `fit_phi_spline` (default; uses a bspline with a breakpoint cadence of `spline_bkpt_cad=9` degrees). If a spline is used, `spline_order` sets the order (default:3) and `common_phi_model=True` ensures that one spline is used for all CHEOPS visits.\n",
    "\n",
    "##### TTV fitting\n",
    "`fit_ttvs=True` can be turned on to fit variable transit timings for each planet. There are three possible priors: `\"Normal\"` (default), `\"Uniform\"`, or `\"BoundNormal\"`. These prior widths are set using `timing_sd_durs` - i.e. the number of transit durations to set as the width of the distributions (default is `0.33`).\n",
    "\n",
    "##### Limb Darkening\n",
    "Using `constrain_lds=True` (the default) uses the theoretical Claret limb darkening tables to set a normal prior for TESS/K2/CHEOPS limb darkening parameters. `ld_mult` is used to multiply the theoretical LD uncertainties in order to account for systematic noise (default: `3`). Otherwise, these are allowed to fit using the Kipping reparameterisation. \n",
    "\n",
    "##### Circular orbits\n",
    "By default `assume_circ=True` is set. If a non-circular model is requires, then the eccentricity prior is set with `ecc_prior`. This is typically set to `ecc_prior='auto'` which will pick the kipping distribution for single planet systems and the van eylen prior for multiplanet systems."
   ]
  },
  {
   "cell_type": "code",
   "execution_count": null,
   "metadata": {},
   "outputs": [],
   "source": [
    "mod.init_model(use_mstar=False, use_logg=True,\n",
    "               fit_phi_spline=True,fit_phi_gp=False, \n",
    "               constrain_lds=True,\n",
    "               fit_ttvs=False, assume_circ=True)"
   ]
  },
  {
   "cell_type": "markdown",
   "metadata": {},
   "source": [
    "### Plotting"
   ]
  },
  {
   "cell_type": "code",
   "execution_count": null,
   "metadata": {},
   "outputs": [],
   "source": [
    "mod.plot_phot(src='tess',save=False)\n",
    "mod.plot_phot(src='k2',save=False)\n",
    "mod.plot_cheops(save=False,show_detrend=True)\n",
    "mod.plot_transits_fold(save=False)\n",
    "mod.plot_rvs(save=False)"
   ]
  },
  {
   "cell_type": "markdown",
   "metadata": {},
   "source": [
    "### Sampling"
   ]
  },
  {
   "cell_type": "code",
   "execution_count": null,
   "metadata": {},
   "outputs": [],
   "source": [
    "mod.sample_model()"
   ]
  },
  {
   "cell_type": "markdown",
   "metadata": {},
   "source": [
    "### Saving"
   ]
  },
  {
   "cell_type": "code",
   "execution_count": null,
   "metadata": {},
   "outputs": [],
   "source": [
    "mod.save_timeseries()\n",
    "mod.save_model_to_file()"
   ]
  },
  {
   "cell_type": "markdown",
   "metadata": {},
   "source": []
  }
 ],
 "metadata": {
  "kernelspec": {
   "display_name": "Python 3",
   "language": "python",
   "name": "python3"
  },
  "language_info": {
   "codemirror_mode": {
    "name": "ipython",
    "version": 3
   },
   "file_extension": ".py",
   "mimetype": "text/x-python",
   "name": "python",
   "nbconvert_exporter": "python",
   "pygments_lexer": "ipython3",
   "version": "3.8.15"
  }
 },
 "nbformat": 4,
 "nbformat_minor": 2
}
